{
  "nbformat": 4,
  "nbformat_minor": 0,
  "metadata": {
    "kernelspec": {
      "display_name": "Python 3",
      "language": "python",
      "name": "python3"
    },
    "language_info": {
      "codemirror_mode": {
        "name": "ipython",
        "version": 3
      },
      "file_extension": ".py",
      "mimetype": "text/x-python",
      "name": "python",
      "nbconvert_exporter": "python",
      "pygments_lexer": "ipython3",
      "version": "3.8.5"
    },
    "colab": {
      "name": "Crack_Segmentation_polygon_colab.ipynb",
      "provenance": [],
      "collapsed_sections": [],
      "toc_visible": true
    },
    "accelerator": "GPU"
  },
  "cells": [
    {
      "cell_type": "code",
      "metadata": {
        "id": "BCVfTWGpSvLO"
      },
      "source": [
        "import sys, os\n",
        "\n",
        "import tensorflow as tf\n",
        "import numpy as np\n",
        "import json\n",
        "from PIL import Image\n",
        "import glob\n",
        "\n",
        "import matplotlib.pyplot as plt"
      ],
      "execution_count": 4,
      "outputs": []
    },
    {
      "cell_type": "code",
      "metadata": {
        "id": "RQa1R686SvLU"
      },
      "source": [
        "# colab에서 사용한다면 \n",
        "colab = True"
      ],
      "execution_count": 5,
      "outputs": []
    },
    {
      "cell_type": "code",
      "metadata": {
        "colab": {
          "base_uri": "https://localhost:8080/"
        },
        "id": "QIX4X159SvLU",
        "outputId": "47df1e34-97af-4036-ee93-edcba37eac86"
      },
      "source": [
        "if colab:\n",
        "  !git clone --depth 1 https://github.com/malheading/Surface_Crack_Segmentation.git"
      ],
      "execution_count": 6,
      "outputs": [
        {
          "output_type": "stream",
          "text": [
            "fatal: destination path 'Surface_Crack_Segmentation' already exists and is not an empty directory.\n"
          ],
          "name": "stdout"
        }
      ]
    },
    {
      "cell_type": "code",
      "metadata": {
        "id": "GFteHXPNSvLU"
      },
      "source": [
        "if colab:\n",
        "    img_positive_path = \"/content/Surface_Crack_Segmentation/Positive_jw/\"\n",
        "    img_negative_path = \"/content/Surface_Crack_Segmentation/Negative_jw/\"\n",
        "    label_positive_path = \"/content/Surface_Crack_Segmentation/Positive_Segmentation/\"\n",
        "    pass\n",
        "else:\n",
        "    img_positive_path = \"D:/_김정원/ss_class(AI)/Surface_Crack_Segmentation/Positive_jw/\"\n",
        "    img_negative_path = \"D:/_김정원/ss_class(AI)/Surface_Crack_Segmentation/Negative_jw/\"\n",
        "    label_positive_path = \"D:/_김정원/ss_class(AI)/Surface_Crack_Segmentation/Positive_Segmentation/\"\n",
        "    \n",
        "positive_imgs = sorted(glob.glob(img_positive_path + \"*.*\"))\n",
        "negative_imgs = sorted(glob.glob(img_negative_path + \"*.*\"))\n",
        "label_positive_datas = sorted(glob.glob(label_positive_path + \"*.*\"))"
      ],
      "execution_count": 7,
      "outputs": []
    },
    {
      "cell_type": "markdown",
      "metadata": {
        "id": "TEGxcevenmaK"
      },
      "source": [
        "# 이미지 데이터들을 경로에서 불러옵니다."
      ]
    },
    {
      "cell_type": "code",
      "metadata": {
        "colab": {
          "base_uri": "https://localhost:8080/"
        },
        "id": "rfY7Xk6cSvLV",
        "outputId": "a32a2dbe-f9e4-407f-e7e4-fc97b4f70943"
      },
      "source": [
        "x_train_positive = []\n",
        "for i in range(len(positive_imgs)):\n",
        "    Im = Image.open(positive_imgs[i])\n",
        "    Im = Im.resize((128,128))\n",
        "    x_train_positive.append(np.array(Im))\n",
        "x_train_positive = np.array(x_train_positive,dtype=np.float32)\n",
        "\n",
        "x_train_negative = []\n",
        "for i in range(len(negative_imgs)):\n",
        "    Im = Image.open(negative_imgs[i])\n",
        "    Im = Im.resize((128,128))\n",
        "    x_train_negative.append(np.array(Im))\n",
        "x_train_negative = np.array(x_train_negative, dtype=np.float32)\n",
        "\n",
        "print(\"x_train_positive shape :\",x_train_positive.shape)\n",
        "print(\"x_train_negative shape :\",x_train_negative.shape)"
      ],
      "execution_count": 8,
      "outputs": [
        {
          "output_type": "stream",
          "text": [
            "x_train_positive shape : (100, 128, 128, 3)\n",
            "x_train_negative shape : (100, 128, 128, 3)\n"
          ],
          "name": "stdout"
        }
      ]
    },
    {
      "cell_type": "code",
      "metadata": {
        "colab": {
          "base_uri": "https://localhost:8080/"
        },
        "id": "1Sr1SOGGSvLW",
        "outputId": "14d861cc-2a71-43b4-8118-99d3ea50d64d"
      },
      "source": [
        "# 크랙이 있는 것과 없는 것 두가지를 concat해서 x_train 데이터를 만든다.\n",
        "x_train = np.concatenate((x_train_negative,x_train_positive))\n",
        "x_train = x_train/255.0\n",
        "print(\"x_train shape :\",x_train.shape)"
      ],
      "execution_count": 9,
      "outputs": [
        {
          "output_type": "stream",
          "text": [
            "x_train shape : (200, 128, 128, 3)\n"
          ],
          "name": "stdout"
        }
      ]
    },
    {
      "cell_type": "markdown",
      "metadata": {
        "id": "WwrWqclOnsgA"
      },
      "source": [
        "# 균열이 있는 데이터의 라벨(영상 분할)데이터를 경로에서 불러옵니다."
      ]
    },
    {
      "cell_type": "code",
      "metadata": {
        "id": "7RzZwiCISvLW"
      },
      "source": [
        "y_train_positive = []\n",
        "for i in range(len(label_positive_datas)):\n",
        "    Im = Image.open(label_positive_datas[i])\n",
        "    Im = Im.resize((128,128),Image.BOX)\n",
        "    y_train_positive.append(np.ceil(np.array(Im)))\n",
        "y_train_positive = np.array(y_train_positive,dtype=np.float32)/255.0\n",
        "y_train_positive = y_train_positive.reshape(y_train_positive.shape[0],y_train_positive.shape[1],y_train_positive.shape[2],1)"
      ],
      "execution_count": 10,
      "outputs": []
    },
    {
      "cell_type": "code",
      "metadata": {
        "colab": {
          "base_uri": "https://localhost:8080/",
          "height": 287
        },
        "id": "feeqNsWYSvLW",
        "outputId": "1c4cb450-ca58-4612-ac1f-34fffb3e230c"
      },
      "source": [
        "# plt.imshow(y_train_positive[0])\n",
        "plt.imshow(y_train_positive[0].reshape((128,128)))\n",
        "# y_train_positive.dtype"
      ],
      "execution_count": 11,
      "outputs": [
        {
          "output_type": "execute_result",
          "data": {
            "text/plain": [
              "<matplotlib.image.AxesImage at 0x7f98181cf0f0>"
            ]
          },
          "metadata": {
            "tags": []
          },
          "execution_count": 11
        },
        {
          "output_type": "display_data",
          "data": {
            "image/png": "[encoded data removed]",
            "text/plain": [
              "<Figure size 432x288 with 1 Axes>"
            ]
          },
          "metadata": {
            "tags": [],
            "needs_background": "light"
          }
        }
      ]
    },
    {
      "cell_type": "markdown",
      "metadata": {
        "id": "f_Tw-ZvGn0eY"
      },
      "source": [
        "# 균열이 없는 데이터의 라벨은 모든 픽셀 값이 0이므로, numpy로 생성합니다."
      ]
    },
    {
      "cell_type": "code",
      "metadata": {
        "colab": {
          "base_uri": "https://localhost:8080/"
        },
        "id": "vg6zrs4vSvLX",
        "outputId": "b2ce9cd2-6554-4be8-93c9-f0d10fb9490a"
      },
      "source": [
        "# negative label은 모든 픽셀의 값이 0\n",
        "y_train_negative = np.zeros((x_train_negative.shape[0], 128, 128, 1),dtype=np.float32)\n",
        "\n",
        "# label(y_train)도 concat해준다\n",
        "y_train = np.concatenate((y_train_negative,y_train_positive))\n",
        "print(y_train.shape)"
      ],
      "execution_count": 12,
      "outputs": [
        {
          "output_type": "stream",
          "text": [
            "(200, 128, 128, 1)\n"
          ],
          "name": "stdout"
        }
      ]
    },
    {
      "cell_type": "markdown",
      "metadata": {
        "id": "pd9usyrySvLX"
      },
      "source": [
        "# 데이터셋 형태로 생성"
      ]
    },
    {
      "cell_type": "code",
      "metadata": {
        "id": "81gXggeLSvLX"
      },
      "source": [
        "# from_tensor_slice로 데이터셋 생성\n",
        "BATCH_SIZE=10\n",
        "dataset = tf.data.Dataset.from_tensor_slices((x_train,y_train)).shuffle(10000).batch(BATCH_SIZE)"
      ],
      "execution_count": 13,
      "outputs": []
    },
    {
      "cell_type": "code",
      "metadata": {
        "id": "cQ3JVQTdSvLY"
      },
      "source": [
        "# 트레인 데이터셋은 0.85 * 200 / 10 --> 170개\n",
        "# 테스트 데이터셋은 나머지 30개\n",
        "validation_split = 0.85\n",
        "train_dataset_size = int(y_train.shape[0] * validation_split / BATCH_SIZE)\n",
        "train_dataset = dataset.take(train_dataset_size)\n",
        "test_dataset = dataset.skip(train_dataset_size)"
      ],
      "execution_count": 14,
      "outputs": []
    },
    {
      "cell_type": "markdown",
      "metadata": {
        "id": "B_hStCQpSvLY"
      },
      "source": [
        "# 모델 정의하기"
      ]
    },
    {
      "cell_type": "code",
      "metadata": {
        "id": "bTzKRj45SvLY"
      },
      "source": [
        "CHANNEL = 3\n",
        "OUTPUT_CHANNELS = 3\n",
        "\n",
        "# 베이스모델로 MobileNetV2를 사용해서, 조금 더 가벼운 네트워크를 구성하고자 합니다.\n",
        "base_model = tf.keras.applications.MobileNetV2(input_shape=[128, 128, CHANNEL], include_top=False)\n",
        "base_model.summary()"
      ],
      "execution_count": null,
      "outputs": []
    },
    {
      "cell_type": "code",
      "metadata": {
        "id": "0lQlzQh2SvLY"
      },
      "source": [
        "# U-Net에서 특징 추출 레이어로 사용할 계층들입니다.\n",
        "#이 층들의 활성화를 이용합시다\n",
        "layer_names = [\n",
        "    'block_1_expand_relu',   # 64x64\n",
        "    'block_3_expand_relu',   # 32x32\n",
        "    'block_6_expand_relu',   # 16x16\n",
        "    'block_13_expand_relu',  # 8x8\n",
        "    'block_16_project',      # 4x4\n",
        "]\n",
        "\n",
        "layers = [base_model.get_layer(name).output for name in layer_names]"
      ],
      "execution_count": null,
      "outputs": []
    },
    {
      "cell_type": "markdown",
      "metadata": {
        "id": "Ur5b805sSvLY"
      },
      "source": [
        "# U-Net은 다음과 같은 구조로, 일부는 정확한 지역화(Localization)을 수행하게 됩니다."
      ]
    },
    {
      "cell_type": "code",
      "metadata": {
        "id": "6n6f_Bu8SvLZ"
      },
      "source": [
        "# U-net은 기본적으로 아래층으로 심층 특징 추출하는 층과, skip하는 층이 합쳐지는 구조# 특징추출 모델을 만듭시다.\n",
        "# 추가적인 설명은 다음 블로그에서 쉽게 이해할 수 있습니다.\n",
        "# https://medium.com/@msmapark2/u-net-%EB%85%BC%EB%AC%B8-%EB%A6%AC%EB%B7%B0-u-net-convolutional-networks-for-biomedical-image-segmentation-456d6901b28a\n",
        "# 이를 'down_stack'한다고 합니다.\n",
        "down_stack = tf.keras.Model(inputs=base_model.input, outputs=layers)\n",
        "\n",
        "# 이미 특징 추출은 MobileNet에서 수행되었기 때문에, trainable = False\n",
        "down_stack.trainable = False"
      ],
      "execution_count": null,
      "outputs": []
    },
    {
      "cell_type": "code",
      "metadata": {
        "id": "KR9hyYfdSvLZ"
      },
      "source": [
        "# up_stack을 1회 수행하는 하나의 계층을 만들도록 upsample 함수를 정의합니다.\n",
        "def upsample(filters, size, apply_dropout=False):\n",
        "  initializer = tf.random_normal_initializer(0., 0.02)\n",
        "\n",
        "  result = tf.keras.Sequential()\n",
        "  result.add(\n",
        "    tf.keras.layers.Conv2DTranspose(filters, size, strides=2,padding='same',kernel_initializer=initializer,use_bias=False))\n",
        "\n",
        "  result.add(tf.keras.layers.BatchNormalization())\n",
        "\n",
        "  if apply_dropout:\n",
        "      result.add(tf.keras.layers.Dropout(0.5))\n",
        "\n",
        "  result.add(tf.keras.layers.ReLU())\n",
        "\n",
        "  return result"
      ],
      "execution_count": null,
      "outputs": []
    },
    {
      "cell_type": "code",
      "metadata": {
        "id": "RHFWUIczSvLZ"
      },
      "source": [
        "up_stack = [\n",
        "    upsample(512, 3),  # 4x4 -> 8x8\n",
        "    upsample(256, 3),  # 8x8 -> 16x16\n",
        "    upsample(128, 3),  # 16x16 -> 32x32\n",
        "    upsample(64, 3),   # 32x32 -> 64x64\n",
        "]"
      ],
      "execution_count": null,
      "outputs": []
    },
    {
      "cell_type": "code",
      "metadata": {
        "id": "49RAdo1BSvLZ"
      },
      "source": [
        "# 모델을 만드는 함수를 정의합니다.\n",
        "def build_model(num_output_channels):\n",
        "    input_layer = tf.keras.layers.Input(shape=[128,128,3])\n",
        "    x = input_layer\n",
        "    \n",
        "#     모델을 다운 스택\n",
        "    skips = down_stack(x)\n",
        "    x = skips[-1]\n",
        "    skips = reversed(skips[:-1])\n",
        "    \n",
        "#     skip connection을 upsampling한다\n",
        "    for up, skip in zip(up_stack,skips):\n",
        "        x = up(x)\n",
        "        #  skip해서 넘어오는 connection과 down_stack에서 올라오는 up을 concatenate한다.\n",
        "        concat = tf.keras.layers.Concatenate()\n",
        "        x = concat([x,skip])\n",
        "        \n",
        "    # 현재 최종 계층의 output shape = (None, 64,64,1)\n",
        "    # 마지막 계층으로 Conv2DTranspose를 함으로써, output shape를 (None, 64, 64, Channel)로 지정한다\n",
        "    last_layer = tf.keras.layers.Conv2DTranspose(num_output_channels, 3, strides=2, padding='same') # 64x64 -> 128,128\n",
        "    \n",
        "    x = last_layer(x)\n",
        "    \n",
        "    return tf.keras.Model(inputs=input_layer, outputs=x)"
      ],
      "execution_count": null,
      "outputs": []
    },
    {
      "cell_type": "markdown",
      "metadata": {
        "id": "hvPEgLvxSvLZ"
      },
      "source": [
        "# 모델을 컴파일합니다.\n",
        "### 각각의 픽셀에 대해서 {0,1,2} 3채널의 Sparse Categorical Cross Entropy를 수행하게 됩니다.\n",
        "### pixcel-wise (픽셀 단위의) 해석이기 때문에 Segmentation의 수행이 가능합니다."
      ]
    },
    {
      "cell_type": "code",
      "metadata": {
        "id": "SEjiDND_SvLa"
      },
      "source": [
        "OUTPUT_CHANNELS = 3\n",
        "model = build_model(OUTPUT_CHANNELS)\n",
        "\n",
        "model.compile(optimizer='adam',loss=tf.keras.losses.SparseCategoricalCrossentropy(from_logits=True),metrics=['accuracy'])"
      ],
      "execution_count": null,
      "outputs": []
    },
    {
      "cell_type": "code",
      "metadata": {
        "id": "2cK3GbVOSvLa"
      },
      "source": [
        "if colab:\n",
        "    from tensorflow.keras.utils import plot_model\n",
        "    plot_model(model, show_shapes=True)\n",
        "    # model.png 파일이 저장된 것을 확인할 수 있습니다.\n",
        "    plt.figure(figsize=(12,25))\n",
        "    plt.imshow(np.array(Image.open('model.png')))\n",
        "else:\n",
        "     model.summary()   "
      ],
      "execution_count": null,
      "outputs": []
    },
    {
      "cell_type": "markdown",
      "metadata": {
        "id": "BakIPYppSvLa"
      },
      "source": [
        "# 초기 Prediction을 출력해 봅시다(epoch=0)."
      ]
    },
    {
      "cell_type": "code",
      "metadata": {
        "id": "jJI68d3xSvLa"
      },
      "source": [
        "sample_image, sample_mask = next(iter(dataset))"
      ],
      "execution_count": null,
      "outputs": []
    },
    {
      "cell_type": "code",
      "metadata": {
        "id": "NpMlZMUpSvLa"
      },
      "source": [
        "def show_predictions(dataset=None, num=1,epoch=None):\n",
        "  if dataset:\n",
        "    for image, mask in dataset.take(num):\n",
        "      predicted_mask = model.predict(image)\n",
        "      # output 3채널 중에서 가장 큰 값들을 찾아서 1채널로 축소\n",
        "      predicted_mask = tf.argmax(predicted_mask, axis=-1)\n",
        "      predicted_mask = np.array(predicted_mask).reshape((10,128,128,1))\n",
        "#       display([image[0], mask[0], predicted_mask])\n",
        "      \n",
        "      plt.figure(figsize=(15,5))\n",
        "      for i in range(BATCH_SIZE):\n",
        "        plt.subplot(3,BATCH_SIZE,i+1)\n",
        "        plt.imshow(image[i])\n",
        "        plt.subplot(3,BATCH_SIZE,i+BATCH_SIZE+1)\n",
        "        plt.imshow(np.array(mask[i]).reshape(128,128))\n",
        "        plt.subplot(3,BATCH_SIZE,i+2 * BATCH_SIZE+1)\n",
        "        plt.imshow(predicted_mask[i].reshape(128,128))\n",
        "  else:\n",
        "    predicted_mask = model.predict(sample_image)\n",
        "    predicted_mask = tf.argmax(predicted_mask, axis=-1)\n",
        "    predicted_mask = np.array(predicted_mask).reshape((10,128,128,1))\n",
        "    plt.figure(figsize=(15,5))\n",
        "    if epoch:\n",
        "      plt.title(\"Current epoch :{}\".format(epoch))\n",
        "    for i in range(BATCH_SIZE):\n",
        "      plt.subplot(3,BATCH_SIZE,i+1)\n",
        "      plt.imshow(sample_image[i])\n",
        "      plt.subplot(3,BATCH_SIZE,i+BATCH_SIZE+1)\n",
        "      plt.imshow(np.array(sample_mask[i]).reshape(128,128))\n",
        "      plt.subplot(3,BATCH_SIZE,i+2 * BATCH_SIZE+1)\n",
        "      plt.imshow(predicted_mask[i].reshape(128,128))\n",
        "#     plt.show()\n",
        "    if epoch:\n",
        "        if colab:\n",
        "          save_path = \"/content/Surface_Crack_Segmentation/fig_saves/\"\n",
        "        else:\n",
        "          save_path = \"D:/_김정원/ss_class(AI)/Surface_Crack_Segmentation/fig_saves/\"  #  이미지 저장 경로를 변경해주세요\n",
        "        file_name = \"{}.png\".format(epoch)\n",
        "        plt.savefig(save_path+file_name)\n",
        "    plt.show()"
      ],
      "execution_count": null,
      "outputs": []
    },
    {
      "cell_type": "code",
      "metadata": {
        "id": "a17mLXwTSvLb"
      },
      "source": [
        "# 트레이닝 되지않은 초기 데이터를 plot\n",
        "# 다소 약한 Mask들이 나오는 것을 볼 수 있다.\n",
        "show_predictions(dataset,1)"
      ],
      "execution_count": null,
      "outputs": []
    },
    {
      "cell_type": "markdown",
      "metadata": {
        "id": "ALDZY6xpSvLb"
      },
      "source": [
        "# 트레이닝"
      ]
    },
    {
      "cell_type": "code",
      "metadata": {
        "id": "pG_D23yISvLb"
      },
      "source": [
        "# 각 트레인 epoch가 끝날 때마다 트레이닝 sample_image, sample_mask로부터 학습과정을 시각화합니다.\n",
        "# tensorflow.keras.callbacks.Callback 클래스로부터 오버로딩합니다.\n",
        "from IPython.display import clear_output\n",
        "class DisplayCallback(tf.keras.callbacks.Callback):\n",
        "  def on_epoch_end(self, epoch, logs=None):\n",
        "    clear_output(wait=True)\n",
        "    show_predictions(epoch = epoch)"
      ],
      "execution_count": null,
      "outputs": []
    },
    {
      "cell_type": "code",
      "metadata": {
        "id": "ZlRETNVVSvLb"
      },
      "source": [
        "EPOCHS = 100\n",
        "\n",
        "STEPS_PER_EPOCH = train_dataset_size\n",
        "\n",
        "# 만일의 사태에 대비해서 체크포인트 콜백을 생성하고 적용하겠습니다.\n",
        "if colab:\n",
        "    save_dir = './ckpt_dat/'\n",
        "    checkpoint_path = save_dir + \"{epoch:03d}.ckpt\"\n",
        "    callback_autosave=tf.keras.callbacks.ModelCheckpoint(checkpoint_path,verbose=1,save_weights_only=True,save_freq=10)\n",
        "else:\n",
        "    checkpoint_path = \"D:/_김정원/ss_class(AI)/Surface_Crack_Segmentation/CKPT/{epoch:03d}.ckpt\"\n",
        "    callback_autosave=tf.keras.callbacks.ModelCheckpoint(checkpoint_path,verbose=1,save_weights_only=True,save_freq=10)\n",
        "\n",
        "\n",
        "# 이제 모델을 피팅합니다. 각 epoch이 끝날때마다 학습과정을 시각화합니다.\n",
        "model_history = model.fit(train_dataset, validation_data=test_dataset, \n",
        "                          epochs=EPOCHS, steps_per_epoch=STEPS_PER_EPOCH,\n",
        "                         callbacks=[DisplayCallback(),callback_autosave])"
      ],
      "execution_count": null,
      "outputs": []
    },
    {
      "cell_type": "code",
      "metadata": {
        "id": "j0Yfimi4SvLc"
      },
      "source": [
        "# 모델을 save합니다.\n",
        "# 사실 이미 체크포인트를 지정했기 때문에, 필요가 없습니다.\n",
        "if colab:\n",
        "  model.save(\"/content/Surface_Crack_Segmentation/MY_MODEL\")\n",
        "else:\n",
        "    model.save(\"D:/_김정원/ss_class(AI)/Surface_Crack_Segmentation/MY_MODEL\")\n",
        "    pass"
      ],
      "execution_count": null,
      "outputs": []
    },
    {
      "cell_type": "code",
      "metadata": {
        "id": "d0tmGti2SvLc"
      },
      "source": [
        "plt.figure(figsize=(12,5))\n",
        "plt.subplot(1,2,1)\n",
        "plt.plot(model_history.history['accuracy'],label = 'train')\n",
        "plt.plot(model_history.history['val_accuracy'], label = 'validation')\n",
        "plt.title('accuracy')\n",
        "plt.legend()\n",
        "\n",
        "plt.subplot(1,2,2)\n",
        "plt.plot(model_history.history['loss'],label='train')\n",
        "plt.plot(model_history.history['val_loss'],label='validation')\n",
        "plt.title('loss')\n",
        "plt.legend()"
      ],
      "execution_count": null,
      "outputs": []
    },
    {
      "cell_type": "code",
      "metadata": {
        "id": "OPGtZ3P9SvLc"
      },
      "source": [
        ""
      ],
      "execution_count": null,
      "outputs": []
    }
  ]
}